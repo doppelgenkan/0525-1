{
 "cells": [
  {
   "cell_type": "markdown",
   "metadata": {},
   "source": [
    "# Pandas 3\n",
    "## – ファイルを読み込んでデータフレームを作成 –  \n",
    "\n",
    "被験者を開眼・開脚で(静止)立位で重心動揺計のプレートの上に立たせ，30秒間100HzでCOP（圧力中心$\\simeq$身体重心の水平面への垂線の足）を計測したデータを例にする。"
   ]
  },
  {
   "cell_type": "markdown",
   "metadata": {},
   "source": [
    "### 0. パッケージのインポート"
   ]
  },
  {
   "cell_type": "markdown",
   "metadata": {},
   "source": [
    "PandasとNumPyをそれぞれ`pd`と`np`でインポートしておこう："
   ]
  },
  {
   "cell_type": "code",
   "execution_count": 1,
   "metadata": {},
   "outputs": [],
   "source": [
    "import pandas as pd\n",
    "import numpy as np"
   ]
  },
  {
   "cell_type": "markdown",
   "metadata": {},
   "source": [
    "### 1. たちの良いCSVファイルを読み込む"
   ]
  },
  {
   "cell_type": "markdown",
   "metadata": {},
   "source": [
    "表計算ソフト(ここではApple Numbers)で開くと図1のように開くデータファイル（`cop_clean.csv`）を読み込む。ただし，このファイルは実際には，**データがコンマで区切られたテキストデータ**ファイルでこのようなファイルを**CSVファイル**いう。CSVファイルをテキストエディターで開くと，図2のように表示される。  \n",
    "\n",
    "<br>\n",
    "<img src=\"./figs/fig1.png\" width=500>\n",
    "<br>\n",
    "<center><b>図1.データのCSVファイルをNumbersで開いた例</b></center>\n",
    "<br>\n",
    "<br>\n",
    "<img src=\"./figs/fig2.png\" width=\"300\">\n",
    "<br>\n",
    "<center><b>図2.データのCSVファイルをテキストエディターで開いた例（その１）</b></center>\n",
    "<br>\n",
    "\n",
    "このCSVファイル（cop_clean.csv）は非常にたちが良い。**余計な行や列がなく**，文字コードが**UTF-8**だからだ。"
   ]
  },
  {
   "cell_type": "markdown",
   "metadata": {},
   "source": [
    "#### 1-1. 読み込み"
   ]
  },
  {
   "cell_type": "markdown",
   "metadata": {},
   "source": [
    "教科書p.244のリスト6-23のとおり`pd.read_csv`関数を用いて，`df1`にCSVファイル`cop_clean.csv`を読み込んでみよう。"
   ]
  },
  {
   "cell_type": "code",
   "execution_count": 2,
   "metadata": {},
   "outputs": [],
   "source": [
    "df1 =  pd.read_csv('cop_clean.csv')"
   ]
  },
  {
   "cell_type": "markdown",
   "metadata": {},
   "source": [
    "#### 1-2. データフレーム"
   ]
  },
  {
   "cell_type": "markdown",
   "metadata": {},
   "source": [
    "1-1の方法で読み込んだデータは，データフレームオブジェクトとして`df1`に生成される。`df1`を表示してみよう："
   ]
  },
  {
   "cell_type": "code",
   "execution_count": 3,
   "metadata": {},
   "outputs": [
    {
     "data": {
      "text/html": [
       "<div>\n",
       "<style scoped>\n",
       "    .dataframe tbody tr th:only-of-type {\n",
       "        vertical-align: middle;\n",
       "    }\n",
       "\n",
       "    .dataframe tbody tr th {\n",
       "        vertical-align: top;\n",
       "    }\n",
       "\n",
       "    .dataframe thead th {\n",
       "        text-align: right;\n",
       "    }\n",
       "</style>\n",
       "<table border=\"1\" class=\"dataframe\">\n",
       "  <thead>\n",
       "    <tr style=\"text-align: right;\">\n",
       "      <th></th>\n",
       "      <th>時間(秒)</th>\n",
       "      <th>総合COP左右X(cm)</th>\n",
       "      <th>総合COP前後Y(cm)</th>\n",
       "      <th>左プレートCOP左右X(cm)</th>\n",
       "      <th>左プレートCOP前後Y(cm)</th>\n",
       "      <th>左荷重(kgf)</th>\n",
       "      <th>右プレートCOP左右X(cm)</th>\n",
       "      <th>右プレートCOP前後Y(cm)</th>\n",
       "      <th>右荷重(kgf)</th>\n",
       "    </tr>\n",
       "  </thead>\n",
       "  <tbody>\n",
       "    <tr>\n",
       "      <th>0</th>\n",
       "      <td>0.00</td>\n",
       "      <td>-2.325</td>\n",
       "      <td>-7.519</td>\n",
       "      <td>-20.338</td>\n",
       "      <td>-7.435</td>\n",
       "      <td>24.908</td>\n",
       "      <td>17.080</td>\n",
       "      <td>-7.609</td>\n",
       "      <td>23.121</td>\n",
       "    </tr>\n",
       "    <tr>\n",
       "      <th>1</th>\n",
       "      <td>0.01</td>\n",
       "      <td>-2.329</td>\n",
       "      <td>-7.528</td>\n",
       "      <td>-20.336</td>\n",
       "      <td>-7.446</td>\n",
       "      <td>24.937</td>\n",
       "      <td>17.058</td>\n",
       "      <td>-7.617</td>\n",
       "      <td>23.160</td>\n",
       "    </tr>\n",
       "    <tr>\n",
       "      <th>2</th>\n",
       "      <td>0.02</td>\n",
       "      <td>-2.317</td>\n",
       "      <td>-7.548</td>\n",
       "      <td>-20.330</td>\n",
       "      <td>-7.453</td>\n",
       "      <td>24.947</td>\n",
       "      <td>17.060</td>\n",
       "      <td>-7.649</td>\n",
       "      <td>23.190</td>\n",
       "    </tr>\n",
       "    <tr>\n",
       "      <th>3</th>\n",
       "      <td>0.03</td>\n",
       "      <td>-2.292</td>\n",
       "      <td>-7.528</td>\n",
       "      <td>-20.330</td>\n",
       "      <td>-7.453</td>\n",
       "      <td>24.947</td>\n",
       "      <td>17.064</td>\n",
       "      <td>-7.609</td>\n",
       "      <td>23.248</td>\n",
       "    </tr>\n",
       "    <tr>\n",
       "      <th>4</th>\n",
       "      <td>0.04</td>\n",
       "      <td>-2.289</td>\n",
       "      <td>-7.535</td>\n",
       "      <td>-20.330</td>\n",
       "      <td>-7.453</td>\n",
       "      <td>24.947</td>\n",
       "      <td>17.053</td>\n",
       "      <td>-7.624</td>\n",
       "      <td>23.268</td>\n",
       "    </tr>\n",
       "    <tr>\n",
       "      <th>...</th>\n",
       "      <td>...</td>\n",
       "      <td>...</td>\n",
       "      <td>...</td>\n",
       "      <td>...</td>\n",
       "      <td>...</td>\n",
       "      <td>...</td>\n",
       "      <td>...</td>\n",
       "      <td>...</td>\n",
       "      <td>...</td>\n",
       "    </tr>\n",
       "    <tr>\n",
       "      <th>2996</th>\n",
       "      <td>29.96</td>\n",
       "      <td>-2.264</td>\n",
       "      <td>-7.593</td>\n",
       "      <td>-20.349</td>\n",
       "      <td>-7.432</td>\n",
       "      <td>24.917</td>\n",
       "      <td>17.062</td>\n",
       "      <td>-7.765</td>\n",
       "      <td>23.317</td>\n",
       "    </tr>\n",
       "    <tr>\n",
       "      <th>2997</th>\n",
       "      <td>29.97</td>\n",
       "      <td>-2.293</td>\n",
       "      <td>-7.595</td>\n",
       "      <td>-20.359</td>\n",
       "      <td>-7.430</td>\n",
       "      <td>24.927</td>\n",
       "      <td>17.037</td>\n",
       "      <td>-7.771</td>\n",
       "      <td>23.297</td>\n",
       "    </tr>\n",
       "    <tr>\n",
       "      <th>2998</th>\n",
       "      <td>29.98</td>\n",
       "      <td>-2.273</td>\n",
       "      <td>-7.588</td>\n",
       "      <td>-20.366</td>\n",
       "      <td>-7.423</td>\n",
       "      <td>24.917</td>\n",
       "      <td>17.062</td>\n",
       "      <td>-7.765</td>\n",
       "      <td>23.317</td>\n",
       "    </tr>\n",
       "    <tr>\n",
       "      <th>2999</th>\n",
       "      <td>29.99</td>\n",
       "      <td>-2.263</td>\n",
       "      <td>-7.586</td>\n",
       "      <td>-20.366</td>\n",
       "      <td>-7.423</td>\n",
       "      <td>24.917</td>\n",
       "      <td>17.075</td>\n",
       "      <td>-7.762</td>\n",
       "      <td>23.326</td>\n",
       "    </tr>\n",
       "    <tr>\n",
       "      <th>3000</th>\n",
       "      <td>30.00</td>\n",
       "      <td>-2.279</td>\n",
       "      <td>-7.578</td>\n",
       "      <td>-20.361</td>\n",
       "      <td>-7.386</td>\n",
       "      <td>24.976</td>\n",
       "      <td>17.058</td>\n",
       "      <td>-7.783</td>\n",
       "      <td>23.356</td>\n",
       "    </tr>\n",
       "  </tbody>\n",
       "</table>\n",
       "<p>3001 rows × 9 columns</p>\n",
       "</div>"
      ],
      "text/plain": [
       "      時間(秒)  総合COP左右X(cm)  総合COP前後Y(cm)  左プレートCOP左右X(cm)  左プレートCOP前後Y(cm)  \\\n",
       "0      0.00        -2.325        -7.519          -20.338           -7.435   \n",
       "1      0.01        -2.329        -7.528          -20.336           -7.446   \n",
       "2      0.02        -2.317        -7.548          -20.330           -7.453   \n",
       "3      0.03        -2.292        -7.528          -20.330           -7.453   \n",
       "4      0.04        -2.289        -7.535          -20.330           -7.453   \n",
       "...     ...           ...           ...              ...              ...   \n",
       "2996  29.96        -2.264        -7.593          -20.349           -7.432   \n",
       "2997  29.97        -2.293        -7.595          -20.359           -7.430   \n",
       "2998  29.98        -2.273        -7.588          -20.366           -7.423   \n",
       "2999  29.99        -2.263        -7.586          -20.366           -7.423   \n",
       "3000  30.00        -2.279        -7.578          -20.361           -7.386   \n",
       "\n",
       "      左荷重(kgf)  右プレートCOP左右X(cm)  右プレートCOP前後Y(cm)  右荷重(kgf)  \n",
       "0       24.908           17.080           -7.609    23.121  \n",
       "1       24.937           17.058           -7.617    23.160  \n",
       "2       24.947           17.060           -7.649    23.190  \n",
       "3       24.947           17.064           -7.609    23.248  \n",
       "4       24.947           17.053           -7.624    23.268  \n",
       "...        ...              ...              ...       ...  \n",
       "2996    24.917           17.062           -7.765    23.317  \n",
       "2997    24.927           17.037           -7.771    23.297  \n",
       "2998    24.917           17.062           -7.765    23.317  \n",
       "2999    24.917           17.075           -7.762    23.326  \n",
       "3000    24.976           17.058           -7.783    23.356  \n",
       "\n",
       "[3001 rows x 9 columns]"
      ]
     },
     "execution_count": 3,
     "metadata": {},
     "output_type": "execute_result"
    }
   ],
   "source": [
    "df1"
   ]
  },
  {
   "cell_type": "markdown",
   "metadata": {},
   "source": [
    "> しかし，世の中そんなに甘くはない。特に計測器で計測しCSVデータに書き出されたデータはその計測器のメーカーの好き勝手な仕様によって異なるからだ。"
   ]
  },
  {
   "cell_type": "markdown",
   "metadata": {},
   "source": [
    "### 2. 実際の(たちの悪い)CSVファイルの読み込み"
   ]
  },
  {
   "cell_type": "markdown",
   "metadata": {},
   "source": [
    "セクション1で読み込んだデータファイル（`cop-real.csv`）は，**重心動揺計が出力するデータ(CSV)ファイル**を加工している。加工前の**生のデータファイル**をダブルクリックするとExcelで図3のように開く。しかし，Excelでダブルクリックで開くCSVファイル，それがもしかな漢字等の日本語を含んでいると**たちが悪い**んだ。そのことをみてみよう。\n",
    "<br>\n",
    "<img src=\"./figs/fig3.png\" width=400>\n",
    "<br>\n",
    "<center><b>図3.データのCSVファイルをExcelで開いた例</b></center>\n",
    "<br>\n"
   ]
  },
  {
   "cell_type": "markdown",
   "metadata": {},
   "source": [
    "#### 2-1. 読み込みエラー続出！\n",
    "##### 2-1-1. 文字コードエラー"
   ]
  },
  {
   "cell_type": "markdown",
   "metadata": {},
   "source": [
    "生データファイル`cop_real.csv`をセクション1と同様に読み込んで，データフレームオブジェクト`df2`を作成したい。やってみよう："
   ]
  },
  {
   "cell_type": "code",
   "execution_count": 4,
   "metadata": {
    "scrolled": false
   },
   "outputs": [
    {
     "ename": "UnicodeDecodeError",
     "evalue": "'utf-8' codec can't decode byte 0x94 in position 2: invalid start byte",
     "output_type": "error",
     "traceback": [
      "\u001b[0;31m---------------------------------------------------------------------------\u001b[0m",
      "\u001b[0;31mUnicodeDecodeError\u001b[0m                        Traceback (most recent call last)",
      "\u001b[0;32m<ipython-input-4-7c3d0ccb689b>\u001b[0m in \u001b[0;36m<module>\u001b[0;34m\u001b[0m\n\u001b[0;32m----> 1\u001b[0;31m \u001b[0mdf\u001b[0m \u001b[0;34m=\u001b[0m \u001b[0mpd\u001b[0m\u001b[0;34m.\u001b[0m\u001b[0mread_csv\u001b[0m\u001b[0;34m(\u001b[0m\u001b[0;34m'cop_real.csv'\u001b[0m\u001b[0;34m)\u001b[0m\u001b[0;34m\u001b[0m\u001b[0;34m\u001b[0m\u001b[0m\n\u001b[0m",
      "\u001b[0;32m~/anaconda3/lib/python3.7/site-packages/pandas/io/parsers.py\u001b[0m in \u001b[0;36mparser_f\u001b[0;34m(filepath_or_buffer, sep, delimiter, header, names, index_col, usecols, squeeze, prefix, mangle_dupe_cols, dtype, engine, converters, true_values, false_values, skipinitialspace, skiprows, skipfooter, nrows, na_values, keep_default_na, na_filter, verbose, skip_blank_lines, parse_dates, infer_datetime_format, keep_date_col, date_parser, dayfirst, cache_dates, iterator, chunksize, compression, thousands, decimal, lineterminator, quotechar, quoting, doublequote, escapechar, comment, encoding, dialect, error_bad_lines, warn_bad_lines, delim_whitespace, low_memory, memory_map, float_precision)\u001b[0m\n\u001b[1;32m    674\u001b[0m         )\n\u001b[1;32m    675\u001b[0m \u001b[0;34m\u001b[0m\u001b[0m\n\u001b[0;32m--> 676\u001b[0;31m         \u001b[0;32mreturn\u001b[0m \u001b[0m_read\u001b[0m\u001b[0;34m(\u001b[0m\u001b[0mfilepath_or_buffer\u001b[0m\u001b[0;34m,\u001b[0m \u001b[0mkwds\u001b[0m\u001b[0;34m)\u001b[0m\u001b[0;34m\u001b[0m\u001b[0;34m\u001b[0m\u001b[0m\n\u001b[0m\u001b[1;32m    677\u001b[0m \u001b[0;34m\u001b[0m\u001b[0m\n\u001b[1;32m    678\u001b[0m     \u001b[0mparser_f\u001b[0m\u001b[0;34m.\u001b[0m\u001b[0m__name__\u001b[0m \u001b[0;34m=\u001b[0m \u001b[0mname\u001b[0m\u001b[0;34m\u001b[0m\u001b[0;34m\u001b[0m\u001b[0m\n",
      "\u001b[0;32m~/anaconda3/lib/python3.7/site-packages/pandas/io/parsers.py\u001b[0m in \u001b[0;36m_read\u001b[0;34m(filepath_or_buffer, kwds)\u001b[0m\n\u001b[1;32m    446\u001b[0m \u001b[0;34m\u001b[0m\u001b[0m\n\u001b[1;32m    447\u001b[0m     \u001b[0;31m# Create the parser.\u001b[0m\u001b[0;34m\u001b[0m\u001b[0;34m\u001b[0m\u001b[0;34m\u001b[0m\u001b[0m\n\u001b[0;32m--> 448\u001b[0;31m     \u001b[0mparser\u001b[0m \u001b[0;34m=\u001b[0m \u001b[0mTextFileReader\u001b[0m\u001b[0;34m(\u001b[0m\u001b[0mfp_or_buf\u001b[0m\u001b[0;34m,\u001b[0m \u001b[0;34m**\u001b[0m\u001b[0mkwds\u001b[0m\u001b[0;34m)\u001b[0m\u001b[0;34m\u001b[0m\u001b[0;34m\u001b[0m\u001b[0m\n\u001b[0m\u001b[1;32m    449\u001b[0m \u001b[0;34m\u001b[0m\u001b[0m\n\u001b[1;32m    450\u001b[0m     \u001b[0;32mif\u001b[0m \u001b[0mchunksize\u001b[0m \u001b[0;32mor\u001b[0m \u001b[0miterator\u001b[0m\u001b[0;34m:\u001b[0m\u001b[0;34m\u001b[0m\u001b[0;34m\u001b[0m\u001b[0m\n",
      "\u001b[0;32m~/anaconda3/lib/python3.7/site-packages/pandas/io/parsers.py\u001b[0m in \u001b[0;36m__init__\u001b[0;34m(self, f, engine, **kwds)\u001b[0m\n\u001b[1;32m    878\u001b[0m             \u001b[0mself\u001b[0m\u001b[0;34m.\u001b[0m\u001b[0moptions\u001b[0m\u001b[0;34m[\u001b[0m\u001b[0;34m\"has_index_names\"\u001b[0m\u001b[0;34m]\u001b[0m \u001b[0;34m=\u001b[0m \u001b[0mkwds\u001b[0m\u001b[0;34m[\u001b[0m\u001b[0;34m\"has_index_names\"\u001b[0m\u001b[0;34m]\u001b[0m\u001b[0;34m\u001b[0m\u001b[0;34m\u001b[0m\u001b[0m\n\u001b[1;32m    879\u001b[0m \u001b[0;34m\u001b[0m\u001b[0m\n\u001b[0;32m--> 880\u001b[0;31m         \u001b[0mself\u001b[0m\u001b[0;34m.\u001b[0m\u001b[0m_make_engine\u001b[0m\u001b[0;34m(\u001b[0m\u001b[0mself\u001b[0m\u001b[0;34m.\u001b[0m\u001b[0mengine\u001b[0m\u001b[0;34m)\u001b[0m\u001b[0;34m\u001b[0m\u001b[0;34m\u001b[0m\u001b[0m\n\u001b[0m\u001b[1;32m    881\u001b[0m \u001b[0;34m\u001b[0m\u001b[0m\n\u001b[1;32m    882\u001b[0m     \u001b[0;32mdef\u001b[0m \u001b[0mclose\u001b[0m\u001b[0;34m(\u001b[0m\u001b[0mself\u001b[0m\u001b[0;34m)\u001b[0m\u001b[0;34m:\u001b[0m\u001b[0;34m\u001b[0m\u001b[0;34m\u001b[0m\u001b[0m\n",
      "\u001b[0;32m~/anaconda3/lib/python3.7/site-packages/pandas/io/parsers.py\u001b[0m in \u001b[0;36m_make_engine\u001b[0;34m(self, engine)\u001b[0m\n\u001b[1;32m   1112\u001b[0m     \u001b[0;32mdef\u001b[0m \u001b[0m_make_engine\u001b[0m\u001b[0;34m(\u001b[0m\u001b[0mself\u001b[0m\u001b[0;34m,\u001b[0m \u001b[0mengine\u001b[0m\u001b[0;34m=\u001b[0m\u001b[0;34m\"c\"\u001b[0m\u001b[0;34m)\u001b[0m\u001b[0;34m:\u001b[0m\u001b[0;34m\u001b[0m\u001b[0;34m\u001b[0m\u001b[0m\n\u001b[1;32m   1113\u001b[0m         \u001b[0;32mif\u001b[0m \u001b[0mengine\u001b[0m \u001b[0;34m==\u001b[0m \u001b[0;34m\"c\"\u001b[0m\u001b[0;34m:\u001b[0m\u001b[0;34m\u001b[0m\u001b[0;34m\u001b[0m\u001b[0m\n\u001b[0;32m-> 1114\u001b[0;31m             \u001b[0mself\u001b[0m\u001b[0;34m.\u001b[0m\u001b[0m_engine\u001b[0m \u001b[0;34m=\u001b[0m \u001b[0mCParserWrapper\u001b[0m\u001b[0;34m(\u001b[0m\u001b[0mself\u001b[0m\u001b[0;34m.\u001b[0m\u001b[0mf\u001b[0m\u001b[0;34m,\u001b[0m \u001b[0;34m**\u001b[0m\u001b[0mself\u001b[0m\u001b[0;34m.\u001b[0m\u001b[0moptions\u001b[0m\u001b[0;34m)\u001b[0m\u001b[0;34m\u001b[0m\u001b[0;34m\u001b[0m\u001b[0m\n\u001b[0m\u001b[1;32m   1115\u001b[0m         \u001b[0;32melse\u001b[0m\u001b[0;34m:\u001b[0m\u001b[0;34m\u001b[0m\u001b[0;34m\u001b[0m\u001b[0m\n\u001b[1;32m   1116\u001b[0m             \u001b[0;32mif\u001b[0m \u001b[0mengine\u001b[0m \u001b[0;34m==\u001b[0m \u001b[0;34m\"python\"\u001b[0m\u001b[0;34m:\u001b[0m\u001b[0;34m\u001b[0m\u001b[0;34m\u001b[0m\u001b[0m\n",
      "\u001b[0;32m~/anaconda3/lib/python3.7/site-packages/pandas/io/parsers.py\u001b[0m in \u001b[0;36m__init__\u001b[0;34m(self, src, **kwds)\u001b[0m\n\u001b[1;32m   1889\u001b[0m         \u001b[0mkwds\u001b[0m\u001b[0;34m[\u001b[0m\u001b[0;34m\"usecols\"\u001b[0m\u001b[0;34m]\u001b[0m \u001b[0;34m=\u001b[0m \u001b[0mself\u001b[0m\u001b[0;34m.\u001b[0m\u001b[0musecols\u001b[0m\u001b[0;34m\u001b[0m\u001b[0;34m\u001b[0m\u001b[0m\n\u001b[1;32m   1890\u001b[0m \u001b[0;34m\u001b[0m\u001b[0m\n\u001b[0;32m-> 1891\u001b[0;31m         \u001b[0mself\u001b[0m\u001b[0;34m.\u001b[0m\u001b[0m_reader\u001b[0m \u001b[0;34m=\u001b[0m \u001b[0mparsers\u001b[0m\u001b[0;34m.\u001b[0m\u001b[0mTextReader\u001b[0m\u001b[0;34m(\u001b[0m\u001b[0msrc\u001b[0m\u001b[0;34m,\u001b[0m \u001b[0;34m**\u001b[0m\u001b[0mkwds\u001b[0m\u001b[0;34m)\u001b[0m\u001b[0;34m\u001b[0m\u001b[0;34m\u001b[0m\u001b[0m\n\u001b[0m\u001b[1;32m   1892\u001b[0m         \u001b[0mself\u001b[0m\u001b[0;34m.\u001b[0m\u001b[0munnamed_cols\u001b[0m \u001b[0;34m=\u001b[0m \u001b[0mself\u001b[0m\u001b[0;34m.\u001b[0m\u001b[0m_reader\u001b[0m\u001b[0;34m.\u001b[0m\u001b[0munnamed_cols\u001b[0m\u001b[0;34m\u001b[0m\u001b[0;34m\u001b[0m\u001b[0m\n\u001b[1;32m   1893\u001b[0m \u001b[0;34m\u001b[0m\u001b[0m\n",
      "\u001b[0;32mpandas/_libs/parsers.pyx\u001b[0m in \u001b[0;36mpandas._libs.parsers.TextReader.__cinit__\u001b[0;34m()\u001b[0m\n",
      "\u001b[0;32mpandas/_libs/parsers.pyx\u001b[0m in \u001b[0;36mpandas._libs.parsers.TextReader._get_header\u001b[0;34m()\u001b[0m\n",
      "\u001b[0;31mUnicodeDecodeError\u001b[0m: 'utf-8' codec can't decode byte 0x94 in position 2: invalid start byte"
     ]
    }
   ],
   "source": [
    "df = pd.read_csv('cop_real.csv')"
   ]
  },
  {
   "cell_type": "markdown",
   "metadata": {},
   "source": [
    "> エラーだ！しかも訳がわからない`UnicodeDecodeError`。なんだこれ？…こんな旨が書いてある「'utf-8'の文字列として読み込もうとしたんだが，位置2のバイト値`0x94`が解釈できん」。"
   ]
  },
  {
   "cell_type": "markdown",
   "metadata": {},
   "source": [
    "`cop_real.csv`ファイルを図2と同じテキストエディターで開いてみたのが図4だ。「これに注意」のところが，`cop_clean.csv`では**UTF-8**になっているのに対し（図2），`cop_real.csv`では**Shift_JIS**になっている（図4）。ここがまず，たちが良いか悪いかの違いだ。現在**世界で標準的に使われている文字コードはUTF-8(ユニコードの一種)**であるのに対し，Shiht-JISという文字コードは古臭いレガシーな日本語文字コードなんだ。Shift_JISは世界標準でもないし，日本標準ですらない，実はつい最近までマイクロソフト社標準の日本語文字コードなんだ。現在「こんな文字コードは使うのやめようや！」$^*$ってことになってるのに，重心動揺計はそれをまだ使ってる，なんてこった！って感じだな。  \n",
    "<br>\n",
    "<br>\n",
    "<img src=\"./figs/fig4.png\" width=\"600\">\n",
    "<br>\n",
    "<center><b>図4.データのCSVファイルをテキストエディターで開いた例（その２）</b></center>\n",
    "<br>\n",
    "\n",
    "> $^*$悲しいことに，マイクロソフト社はShift_JISの呪縛からまだ抜け出せれないでいるようだ。その証拠に，上でやったようにダブルクリックでExcelで開くCSVファイルは，Shift_JISのはちゃんと表示できるが，UTF-8のは字化けする。しかし，ExcelのバイナリファイルはUTF-8を使っている。こんな混乱が起きている。"
   ]
  },
  {
   "cell_type": "markdown",
   "metadata": {},
   "source": [
    "##### 2-1-2. パースエラー"
   ]
  },
  {
   "cell_type": "markdown",
   "metadata": {},
   "source": [
    "`pd.read_csv`関数は**文字コードの指定が特に記述されていないとき（すなわちデフォルトで），読み込み先のCSVファイルをUTF-8の文字コード**で記述されていると思い込んでいる。だから，UTF-8で解釈できない文字コードがあったときに`UnicodeDecodeError`を出し，読み込みを止める。したがって，読み込み先のCSVファイルが**UTF-8以外のときは，そのファイルの文字コードが何かを指定**すればよい。"
   ]
  },
  {
   "cell_type": "markdown",
   "metadata": {},
   "source": [
    "<center><b>リスト1．UTF-8以外の文字コードのCSVファイルの読み込み</b></center>\n",
    "\n",
    "***\n",
    "\n",
    "```\n",
    "pd.read_csv('ファイル名', encoding='読み込むファイルの文字コード')\n",
    "```\n",
    "\n",
    "***"
   ]
  },
  {
   "cell_type": "markdown",
   "metadata": {},
   "source": [
    "これで，`cop_real.csv`を読み込んで，`df2`に格納してみよう："
   ]
  },
  {
   "cell_type": "code",
   "execution_count": 5,
   "metadata": {},
   "outputs": [
    {
     "ename": "ParserError",
     "evalue": "Error tokenizing data. C error: Expected 4 fields in line 7, saw 13\n",
     "output_type": "error",
     "traceback": [
      "\u001b[0;31m---------------------------------------------------------------------------\u001b[0m",
      "\u001b[0;31mParserError\u001b[0m                               Traceback (most recent call last)",
      "\u001b[0;32m<ipython-input-5-7b6ecddfbea8>\u001b[0m in \u001b[0;36m<module>\u001b[0;34m\u001b[0m\n\u001b[0;32m----> 1\u001b[0;31m \u001b[0mdf2\u001b[0m \u001b[0;34m=\u001b[0m \u001b[0mpd\u001b[0m\u001b[0;34m.\u001b[0m\u001b[0mread_csv\u001b[0m\u001b[0;34m(\u001b[0m\u001b[0;34m\"cop_real.csv\"\u001b[0m\u001b[0;34m,\u001b[0m \u001b[0mencoding\u001b[0m\u001b[0;34m=\u001b[0m\u001b[0;34m\"shift_jis\"\u001b[0m\u001b[0;34m)\u001b[0m\u001b[0;34m\u001b[0m\u001b[0;34m\u001b[0m\u001b[0m\n\u001b[0m",
      "\u001b[0;32m~/anaconda3/lib/python3.7/site-packages/pandas/io/parsers.py\u001b[0m in \u001b[0;36mparser_f\u001b[0;34m(filepath_or_buffer, sep, delimiter, header, names, index_col, usecols, squeeze, prefix, mangle_dupe_cols, dtype, engine, converters, true_values, false_values, skipinitialspace, skiprows, skipfooter, nrows, na_values, keep_default_na, na_filter, verbose, skip_blank_lines, parse_dates, infer_datetime_format, keep_date_col, date_parser, dayfirst, cache_dates, iterator, chunksize, compression, thousands, decimal, lineterminator, quotechar, quoting, doublequote, escapechar, comment, encoding, dialect, error_bad_lines, warn_bad_lines, delim_whitespace, low_memory, memory_map, float_precision)\u001b[0m\n\u001b[1;32m    674\u001b[0m         )\n\u001b[1;32m    675\u001b[0m \u001b[0;34m\u001b[0m\u001b[0m\n\u001b[0;32m--> 676\u001b[0;31m         \u001b[0;32mreturn\u001b[0m \u001b[0m_read\u001b[0m\u001b[0;34m(\u001b[0m\u001b[0mfilepath_or_buffer\u001b[0m\u001b[0;34m,\u001b[0m \u001b[0mkwds\u001b[0m\u001b[0;34m)\u001b[0m\u001b[0;34m\u001b[0m\u001b[0;34m\u001b[0m\u001b[0m\n\u001b[0m\u001b[1;32m    677\u001b[0m \u001b[0;34m\u001b[0m\u001b[0m\n\u001b[1;32m    678\u001b[0m     \u001b[0mparser_f\u001b[0m\u001b[0;34m.\u001b[0m\u001b[0m__name__\u001b[0m \u001b[0;34m=\u001b[0m \u001b[0mname\u001b[0m\u001b[0;34m\u001b[0m\u001b[0;34m\u001b[0m\u001b[0m\n",
      "\u001b[0;32m~/anaconda3/lib/python3.7/site-packages/pandas/io/parsers.py\u001b[0m in \u001b[0;36m_read\u001b[0;34m(filepath_or_buffer, kwds)\u001b[0m\n\u001b[1;32m    452\u001b[0m \u001b[0;34m\u001b[0m\u001b[0m\n\u001b[1;32m    453\u001b[0m     \u001b[0;32mtry\u001b[0m\u001b[0;34m:\u001b[0m\u001b[0;34m\u001b[0m\u001b[0;34m\u001b[0m\u001b[0m\n\u001b[0;32m--> 454\u001b[0;31m         \u001b[0mdata\u001b[0m \u001b[0;34m=\u001b[0m \u001b[0mparser\u001b[0m\u001b[0;34m.\u001b[0m\u001b[0mread\u001b[0m\u001b[0;34m(\u001b[0m\u001b[0mnrows\u001b[0m\u001b[0;34m)\u001b[0m\u001b[0;34m\u001b[0m\u001b[0;34m\u001b[0m\u001b[0m\n\u001b[0m\u001b[1;32m    455\u001b[0m     \u001b[0;32mfinally\u001b[0m\u001b[0;34m:\u001b[0m\u001b[0;34m\u001b[0m\u001b[0;34m\u001b[0m\u001b[0m\n\u001b[1;32m    456\u001b[0m         \u001b[0mparser\u001b[0m\u001b[0;34m.\u001b[0m\u001b[0mclose\u001b[0m\u001b[0;34m(\u001b[0m\u001b[0;34m)\u001b[0m\u001b[0;34m\u001b[0m\u001b[0;34m\u001b[0m\u001b[0m\n",
      "\u001b[0;32m~/anaconda3/lib/python3.7/site-packages/pandas/io/parsers.py\u001b[0m in \u001b[0;36mread\u001b[0;34m(self, nrows)\u001b[0m\n\u001b[1;32m   1131\u001b[0m     \u001b[0;32mdef\u001b[0m \u001b[0mread\u001b[0m\u001b[0;34m(\u001b[0m\u001b[0mself\u001b[0m\u001b[0;34m,\u001b[0m \u001b[0mnrows\u001b[0m\u001b[0;34m=\u001b[0m\u001b[0;32mNone\u001b[0m\u001b[0;34m)\u001b[0m\u001b[0;34m:\u001b[0m\u001b[0;34m\u001b[0m\u001b[0;34m\u001b[0m\u001b[0m\n\u001b[1;32m   1132\u001b[0m         \u001b[0mnrows\u001b[0m \u001b[0;34m=\u001b[0m \u001b[0m_validate_integer\u001b[0m\u001b[0;34m(\u001b[0m\u001b[0;34m\"nrows\"\u001b[0m\u001b[0;34m,\u001b[0m \u001b[0mnrows\u001b[0m\u001b[0;34m)\u001b[0m\u001b[0;34m\u001b[0m\u001b[0;34m\u001b[0m\u001b[0m\n\u001b[0;32m-> 1133\u001b[0;31m         \u001b[0mret\u001b[0m \u001b[0;34m=\u001b[0m \u001b[0mself\u001b[0m\u001b[0;34m.\u001b[0m\u001b[0m_engine\u001b[0m\u001b[0;34m.\u001b[0m\u001b[0mread\u001b[0m\u001b[0;34m(\u001b[0m\u001b[0mnrows\u001b[0m\u001b[0;34m)\u001b[0m\u001b[0;34m\u001b[0m\u001b[0;34m\u001b[0m\u001b[0m\n\u001b[0m\u001b[1;32m   1134\u001b[0m \u001b[0;34m\u001b[0m\u001b[0m\n\u001b[1;32m   1135\u001b[0m         \u001b[0;31m# May alter columns / col_dict\u001b[0m\u001b[0;34m\u001b[0m\u001b[0;34m\u001b[0m\u001b[0;34m\u001b[0m\u001b[0m\n",
      "\u001b[0;32m~/anaconda3/lib/python3.7/site-packages/pandas/io/parsers.py\u001b[0m in \u001b[0;36mread\u001b[0;34m(self, nrows)\u001b[0m\n\u001b[1;32m   2035\u001b[0m     \u001b[0;32mdef\u001b[0m \u001b[0mread\u001b[0m\u001b[0;34m(\u001b[0m\u001b[0mself\u001b[0m\u001b[0;34m,\u001b[0m \u001b[0mnrows\u001b[0m\u001b[0;34m=\u001b[0m\u001b[0;32mNone\u001b[0m\u001b[0;34m)\u001b[0m\u001b[0;34m:\u001b[0m\u001b[0;34m\u001b[0m\u001b[0;34m\u001b[0m\u001b[0m\n\u001b[1;32m   2036\u001b[0m         \u001b[0;32mtry\u001b[0m\u001b[0;34m:\u001b[0m\u001b[0;34m\u001b[0m\u001b[0;34m\u001b[0m\u001b[0m\n\u001b[0;32m-> 2037\u001b[0;31m             \u001b[0mdata\u001b[0m \u001b[0;34m=\u001b[0m \u001b[0mself\u001b[0m\u001b[0;34m.\u001b[0m\u001b[0m_reader\u001b[0m\u001b[0;34m.\u001b[0m\u001b[0mread\u001b[0m\u001b[0;34m(\u001b[0m\u001b[0mnrows\u001b[0m\u001b[0;34m)\u001b[0m\u001b[0;34m\u001b[0m\u001b[0;34m\u001b[0m\u001b[0m\n\u001b[0m\u001b[1;32m   2038\u001b[0m         \u001b[0;32mexcept\u001b[0m \u001b[0mStopIteration\u001b[0m\u001b[0;34m:\u001b[0m\u001b[0;34m\u001b[0m\u001b[0;34m\u001b[0m\u001b[0m\n\u001b[1;32m   2039\u001b[0m             \u001b[0;32mif\u001b[0m \u001b[0mself\u001b[0m\u001b[0;34m.\u001b[0m\u001b[0m_first_chunk\u001b[0m\u001b[0;34m:\u001b[0m\u001b[0;34m\u001b[0m\u001b[0;34m\u001b[0m\u001b[0m\n",
      "\u001b[0;32mpandas/_libs/parsers.pyx\u001b[0m in \u001b[0;36mpandas._libs.parsers.TextReader.read\u001b[0;34m()\u001b[0m\n",
      "\u001b[0;32mpandas/_libs/parsers.pyx\u001b[0m in \u001b[0;36mpandas._libs.parsers.TextReader._read_low_memory\u001b[0;34m()\u001b[0m\n",
      "\u001b[0;32mpandas/_libs/parsers.pyx\u001b[0m in \u001b[0;36mpandas._libs.parsers.TextReader._read_rows\u001b[0;34m()\u001b[0m\n",
      "\u001b[0;32mpandas/_libs/parsers.pyx\u001b[0m in \u001b[0;36mpandas._libs.parsers.TextReader._tokenize_rows\u001b[0;34m()\u001b[0m\n",
      "\u001b[0;32mpandas/_libs/parsers.pyx\u001b[0m in \u001b[0;36mpandas._libs.parsers.raise_parser_error\u001b[0;34m()\u001b[0m\n",
      "\u001b[0;31mParserError\u001b[0m: Error tokenizing data. C error: Expected 4 fields in line 7, saw 13\n"
     ]
    }
   ],
   "source": [
    "df2 = pd.read_csv(\"cop_real.csv\", encoding=\"shift_jis\")"
   ]
  },
  {
   "cell_type": "markdown",
   "metadata": {},
   "source": [
    "> またエラーだ。本当に**重心動揺計のCSVファイルはたちが悪い！ **今度は`ParserError`（構文解析エラー）で，まあ簡単にいえば，「項目が4つだと思っていたのに，上から７ライン目にデータが13あるじゃないか！」というやつだ。図4を見ると，たしかに**個人の基本データ**が4列(7行)の別の表があって，そこから13列の**計測データ**になっている。**7行(indexでいうと0〜6行目)の「個人の基本データ」が要らないんだ**。\n",
    "\n",
    "<center><b>リスト2．不必要な行(indexで0〜n行)を読み飛ばしてCSVファイルを読み込む</b></center>\n",
    "\n",
    "***\n",
    "```\n",
    "pd.read_csv('ファイル名', skiprows=n)\n",
    "```\n",
    "***"
   ]
  },
  {
   "cell_type": "markdown",
   "metadata": {},
   "source": [
    "#### 2-2. 重心動揺計CSVファイルの読み込み成功"
   ]
  },
  {
   "cell_type": "markdown",
   "metadata": {},
   "source": [
    "リスト1とリスト2のオプションを兼ね合わせて`cop_real.csv`を読み込んでみる：  \n",
    "> ```\n",
    "pd.read_csv('ファイル名', encoding='読み込むファイルの文字コード', skiprows=読み飛ばしたい行数)\n",
    "```"
   ]
  },
  {
   "cell_type": "code",
   "execution_count": 6,
   "metadata": {},
   "outputs": [],
   "source": [
    "df2 = pd.read_csv('cop_real.csv', encoding='shift_jis', skiprows=6)"
   ]
  },
  {
   "cell_type": "markdown",
   "metadata": {},
   "source": [
    "エラーはでない。`df2`を表示してみよう。"
   ]
  },
  {
   "cell_type": "code",
   "execution_count": 7,
   "metadata": {},
   "outputs": [
    {
     "data": {
      "text/html": [
       "<div>\n",
       "<style scoped>\n",
       "    .dataframe tbody tr th:only-of-type {\n",
       "        vertical-align: middle;\n",
       "    }\n",
       "\n",
       "    .dataframe tbody tr th {\n",
       "        vertical-align: top;\n",
       "    }\n",
       "\n",
       "    .dataframe thead th {\n",
       "        text-align: right;\n",
       "    }\n",
       "</style>\n",
       "<table border=\"1\" class=\"dataframe\">\n",
       "  <thead>\n",
       "    <tr style=\"text-align: right;\">\n",
       "      <th></th>\n",
       "      <th>時間(秒)</th>\n",
       "      <th>総合COP左右X(cm)</th>\n",
       "      <th>総合COP前後Y(cm)</th>\n",
       "      <th>左プレートCOP左右X(cm)</th>\n",
       "      <th>左プレートCOP前後Y(cm)</th>\n",
       "      <th>左荷重(kgf)</th>\n",
       "      <th>右プレートCOP左右X(cm)</th>\n",
       "      <th>右プレートCOP前後Y(cm)</th>\n",
       "      <th>右荷重(kgf)</th>\n",
       "      <th>Unnamed: 9</th>\n",
       "      <th>Unnamed: 10</th>\n",
       "      <th>Unnamed: 11</th>\n",
       "      <th>Unnamed: 12</th>\n",
       "    </tr>\n",
       "  </thead>\n",
       "  <tbody>\n",
       "    <tr>\n",
       "      <th>0</th>\n",
       "      <td>0.00</td>\n",
       "      <td>-2.396</td>\n",
       "      <td>0.138</td>\n",
       "      <td>-18.508</td>\n",
       "      <td>-1.126</td>\n",
       "      <td>34.677</td>\n",
       "      <td>17.991</td>\n",
       "      <td>1.736</td>\n",
       "      <td>27.406</td>\n",
       "      <td>NaN</td>\n",
       "      <td>NaN</td>\n",
       "      <td>NaN</td>\n",
       "      <td>NaN</td>\n",
       "    </tr>\n",
       "    <tr>\n",
       "      <th>1</th>\n",
       "      <td>0.01</td>\n",
       "      <td>-2.411</td>\n",
       "      <td>0.130</td>\n",
       "      <td>-18.516</td>\n",
       "      <td>-1.139</td>\n",
       "      <td>34.716</td>\n",
       "      <td>17.991</td>\n",
       "      <td>1.736</td>\n",
       "      <td>27.406</td>\n",
       "      <td>NaN</td>\n",
       "      <td>NaN</td>\n",
       "      <td>NaN</td>\n",
       "      <td>NaN</td>\n",
       "    </tr>\n",
       "    <tr>\n",
       "      <th>2</th>\n",
       "      <td>0.02</td>\n",
       "      <td>-2.408</td>\n",
       "      <td>0.149</td>\n",
       "      <td>-18.508</td>\n",
       "      <td>-1.123</td>\n",
       "      <td>34.765</td>\n",
       "      <td>17.987</td>\n",
       "      <td>1.760</td>\n",
       "      <td>27.445</td>\n",
       "      <td>NaN</td>\n",
       "      <td>NaN</td>\n",
       "      <td>NaN</td>\n",
       "      <td>NaN</td>\n",
       "    </tr>\n",
       "    <tr>\n",
       "      <th>3</th>\n",
       "      <td>0.03</td>\n",
       "      <td>-2.418</td>\n",
       "      <td>0.149</td>\n",
       "      <td>-18.512</td>\n",
       "      <td>-1.116</td>\n",
       "      <td>34.755</td>\n",
       "      <td>17.991</td>\n",
       "      <td>1.754</td>\n",
       "      <td>27.406</td>\n",
       "      <td>NaN</td>\n",
       "      <td>NaN</td>\n",
       "      <td>NaN</td>\n",
       "      <td>NaN</td>\n",
       "    </tr>\n",
       "    <tr>\n",
       "      <th>4</th>\n",
       "      <td>0.04</td>\n",
       "      <td>-2.423</td>\n",
       "      <td>0.161</td>\n",
       "      <td>-18.512</td>\n",
       "      <td>-1.116</td>\n",
       "      <td>34.755</td>\n",
       "      <td>18.016</td>\n",
       "      <td>1.784</td>\n",
       "      <td>27.357</td>\n",
       "      <td>NaN</td>\n",
       "      <td>NaN</td>\n",
       "      <td>NaN</td>\n",
       "      <td>NaN</td>\n",
       "    </tr>\n",
       "    <tr>\n",
       "      <th>...</th>\n",
       "      <td>...</td>\n",
       "      <td>...</td>\n",
       "      <td>...</td>\n",
       "      <td>...</td>\n",
       "      <td>...</td>\n",
       "      <td>...</td>\n",
       "      <td>...</td>\n",
       "      <td>...</td>\n",
       "      <td>...</td>\n",
       "      <td>...</td>\n",
       "      <td>...</td>\n",
       "      <td>...</td>\n",
       "      <td>...</td>\n",
       "    </tr>\n",
       "    <tr>\n",
       "      <th>2996</th>\n",
       "      <td>29.96</td>\n",
       "      <td>-2.712</td>\n",
       "      <td>-0.201</td>\n",
       "      <td>-18.500</td>\n",
       "      <td>-1.333</td>\n",
       "      <td>35.136</td>\n",
       "      <td>17.949</td>\n",
       "      <td>1.281</td>\n",
       "      <td>26.850</td>\n",
       "      <td>NaN</td>\n",
       "      <td>NaN</td>\n",
       "      <td>NaN</td>\n",
       "      <td>NaN</td>\n",
       "    </tr>\n",
       "    <tr>\n",
       "      <th>2997</th>\n",
       "      <td>29.97</td>\n",
       "      <td>-2.715</td>\n",
       "      <td>-0.189</td>\n",
       "      <td>-18.500</td>\n",
       "      <td>-1.333</td>\n",
       "      <td>35.136</td>\n",
       "      <td>17.964</td>\n",
       "      <td>1.310</td>\n",
       "      <td>26.820</td>\n",
       "      <td>NaN</td>\n",
       "      <td>NaN</td>\n",
       "      <td>NaN</td>\n",
       "      <td>NaN</td>\n",
       "    </tr>\n",
       "    <tr>\n",
       "      <th>2998</th>\n",
       "      <td>29.98</td>\n",
       "      <td>-2.714</td>\n",
       "      <td>-0.185</td>\n",
       "      <td>-18.500</td>\n",
       "      <td>-1.333</td>\n",
       "      <td>35.136</td>\n",
       "      <td>17.959</td>\n",
       "      <td>1.319</td>\n",
       "      <td>26.830</td>\n",
       "      <td>NaN</td>\n",
       "      <td>NaN</td>\n",
       "      <td>NaN</td>\n",
       "      <td>NaN</td>\n",
       "    </tr>\n",
       "    <tr>\n",
       "      <th>2999</th>\n",
       "      <td>29.99</td>\n",
       "      <td>-2.720</td>\n",
       "      <td>-0.177</td>\n",
       "      <td>-18.504</td>\n",
       "      <td>-1.326</td>\n",
       "      <td>35.156</td>\n",
       "      <td>17.954</td>\n",
       "      <td>1.327</td>\n",
       "      <td>26.840</td>\n",
       "      <td>NaN</td>\n",
       "      <td>NaN</td>\n",
       "      <td>NaN</td>\n",
       "      <td>NaN</td>\n",
       "    </tr>\n",
       "    <tr>\n",
       "      <th>3000</th>\n",
       "      <td>30.00</td>\n",
       "      <td>-2.719</td>\n",
       "      <td>-0.181</td>\n",
       "      <td>-18.496</td>\n",
       "      <td>-1.311</td>\n",
       "      <td>35.175</td>\n",
       "      <td>17.949</td>\n",
       "      <td>1.300</td>\n",
       "      <td>26.850</td>\n",
       "      <td>NaN</td>\n",
       "      <td>NaN</td>\n",
       "      <td>NaN</td>\n",
       "      <td>NaN</td>\n",
       "    </tr>\n",
       "  </tbody>\n",
       "</table>\n",
       "<p>3001 rows × 13 columns</p>\n",
       "</div>"
      ],
      "text/plain": [
       "      時間(秒)  総合COP左右X(cm)  総合COP前後Y(cm)  左プレートCOP左右X(cm)  左プレートCOP前後Y(cm)  \\\n",
       "0      0.00        -2.396         0.138          -18.508           -1.126   \n",
       "1      0.01        -2.411         0.130          -18.516           -1.139   \n",
       "2      0.02        -2.408         0.149          -18.508           -1.123   \n",
       "3      0.03        -2.418         0.149          -18.512           -1.116   \n",
       "4      0.04        -2.423         0.161          -18.512           -1.116   \n",
       "...     ...           ...           ...              ...              ...   \n",
       "2996  29.96        -2.712        -0.201          -18.500           -1.333   \n",
       "2997  29.97        -2.715        -0.189          -18.500           -1.333   \n",
       "2998  29.98        -2.714        -0.185          -18.500           -1.333   \n",
       "2999  29.99        -2.720        -0.177          -18.504           -1.326   \n",
       "3000  30.00        -2.719        -0.181          -18.496           -1.311   \n",
       "\n",
       "      左荷重(kgf)  右プレートCOP左右X(cm)  右プレートCOP前後Y(cm)  右荷重(kgf)  Unnamed: 9  \\\n",
       "0       34.677           17.991            1.736    27.406         NaN   \n",
       "1       34.716           17.991            1.736    27.406         NaN   \n",
       "2       34.765           17.987            1.760    27.445         NaN   \n",
       "3       34.755           17.991            1.754    27.406         NaN   \n",
       "4       34.755           18.016            1.784    27.357         NaN   \n",
       "...        ...              ...              ...       ...         ...   \n",
       "2996    35.136           17.949            1.281    26.850         NaN   \n",
       "2997    35.136           17.964            1.310    26.820         NaN   \n",
       "2998    35.136           17.959            1.319    26.830         NaN   \n",
       "2999    35.156           17.954            1.327    26.840         NaN   \n",
       "3000    35.175           17.949            1.300    26.850         NaN   \n",
       "\n",
       "      Unnamed: 10  Unnamed: 11  Unnamed: 12  \n",
       "0             NaN          NaN          NaN  \n",
       "1             NaN          NaN          NaN  \n",
       "2             NaN          NaN          NaN  \n",
       "3             NaN          NaN          NaN  \n",
       "4             NaN          NaN          NaN  \n",
       "...           ...          ...          ...  \n",
       "2996          NaN          NaN          NaN  \n",
       "2997          NaN          NaN          NaN  \n",
       "2998          NaN          NaN          NaN  \n",
       "2999          NaN          NaN          NaN  \n",
       "3000          NaN          NaN          NaN  \n",
       "\n",
       "[3001 rows x 13 columns]"
      ]
     },
     "execution_count": 7,
     "metadata": {},
     "output_type": "execute_result"
    }
   ],
   "source": [
    "df2"
   ]
  },
  {
   "cell_type": "markdown",
   "metadata": {},
   "source": [
    "> 一応，重心動揺計のデータを読み込めた。しかし，このデータフレーム`df2`は不必要な列があるし，項目名が日本語であるのでデータ分析に向いていない（できないことはないが…）。"
   ]
  },
  {
   "cell_type": "markdown",
   "metadata": {},
   "source": [
    "#### 2-3. データフレームの整形"
   ]
  },
  {
   "cell_type": "markdown",
   "metadata": {},
   "source": [
    "データフレーム`df2`から種々のデータ分析をしやすいように整形しよう。教科書p.225〜226の**データフレームオブジェクトに対する`iloc`属性**を使う。`df2`において，行は全て必要であるが，列は1〜8列目しか必要ない。`iloc`属性で取り出したい行を指定する場合には**スライス**を用いるのだから，このことに注意して`df2`を置き換える："
   ]
  },
  {
   "cell_type": "code",
   "execution_count": 8,
   "metadata": {},
   "outputs": [],
   "source": [
    "df2 = df2.iloc[:, :9]"
   ]
  },
  {
   "cell_type": "markdown",
   "metadata": {},
   "source": [
    "`df2`を表示してみよう："
   ]
  },
  {
   "cell_type": "code",
   "execution_count": 9,
   "metadata": {},
   "outputs": [
    {
     "data": {
      "text/html": [
       "<div>\n",
       "<style scoped>\n",
       "    .dataframe tbody tr th:only-of-type {\n",
       "        vertical-align: middle;\n",
       "    }\n",
       "\n",
       "    .dataframe tbody tr th {\n",
       "        vertical-align: top;\n",
       "    }\n",
       "\n",
       "    .dataframe thead th {\n",
       "        text-align: right;\n",
       "    }\n",
       "</style>\n",
       "<table border=\"1\" class=\"dataframe\">\n",
       "  <thead>\n",
       "    <tr style=\"text-align: right;\">\n",
       "      <th></th>\n",
       "      <th>時間(秒)</th>\n",
       "      <th>総合COP左右X(cm)</th>\n",
       "      <th>総合COP前後Y(cm)</th>\n",
       "      <th>左プレートCOP左右X(cm)</th>\n",
       "      <th>左プレートCOP前後Y(cm)</th>\n",
       "      <th>左荷重(kgf)</th>\n",
       "      <th>右プレートCOP左右X(cm)</th>\n",
       "      <th>右プレートCOP前後Y(cm)</th>\n",
       "      <th>右荷重(kgf)</th>\n",
       "    </tr>\n",
       "  </thead>\n",
       "  <tbody>\n",
       "    <tr>\n",
       "      <th>0</th>\n",
       "      <td>0.00</td>\n",
       "      <td>-2.396</td>\n",
       "      <td>0.138</td>\n",
       "      <td>-18.508</td>\n",
       "      <td>-1.126</td>\n",
       "      <td>34.677</td>\n",
       "      <td>17.991</td>\n",
       "      <td>1.736</td>\n",
       "      <td>27.406</td>\n",
       "    </tr>\n",
       "    <tr>\n",
       "      <th>1</th>\n",
       "      <td>0.01</td>\n",
       "      <td>-2.411</td>\n",
       "      <td>0.130</td>\n",
       "      <td>-18.516</td>\n",
       "      <td>-1.139</td>\n",
       "      <td>34.716</td>\n",
       "      <td>17.991</td>\n",
       "      <td>1.736</td>\n",
       "      <td>27.406</td>\n",
       "    </tr>\n",
       "    <tr>\n",
       "      <th>2</th>\n",
       "      <td>0.02</td>\n",
       "      <td>-2.408</td>\n",
       "      <td>0.149</td>\n",
       "      <td>-18.508</td>\n",
       "      <td>-1.123</td>\n",
       "      <td>34.765</td>\n",
       "      <td>17.987</td>\n",
       "      <td>1.760</td>\n",
       "      <td>27.445</td>\n",
       "    </tr>\n",
       "    <tr>\n",
       "      <th>3</th>\n",
       "      <td>0.03</td>\n",
       "      <td>-2.418</td>\n",
       "      <td>0.149</td>\n",
       "      <td>-18.512</td>\n",
       "      <td>-1.116</td>\n",
       "      <td>34.755</td>\n",
       "      <td>17.991</td>\n",
       "      <td>1.754</td>\n",
       "      <td>27.406</td>\n",
       "    </tr>\n",
       "    <tr>\n",
       "      <th>4</th>\n",
       "      <td>0.04</td>\n",
       "      <td>-2.423</td>\n",
       "      <td>0.161</td>\n",
       "      <td>-18.512</td>\n",
       "      <td>-1.116</td>\n",
       "      <td>34.755</td>\n",
       "      <td>18.016</td>\n",
       "      <td>1.784</td>\n",
       "      <td>27.357</td>\n",
       "    </tr>\n",
       "    <tr>\n",
       "      <th>...</th>\n",
       "      <td>...</td>\n",
       "      <td>...</td>\n",
       "      <td>...</td>\n",
       "      <td>...</td>\n",
       "      <td>...</td>\n",
       "      <td>...</td>\n",
       "      <td>...</td>\n",
       "      <td>...</td>\n",
       "      <td>...</td>\n",
       "    </tr>\n",
       "    <tr>\n",
       "      <th>2996</th>\n",
       "      <td>29.96</td>\n",
       "      <td>-2.712</td>\n",
       "      <td>-0.201</td>\n",
       "      <td>-18.500</td>\n",
       "      <td>-1.333</td>\n",
       "      <td>35.136</td>\n",
       "      <td>17.949</td>\n",
       "      <td>1.281</td>\n",
       "      <td>26.850</td>\n",
       "    </tr>\n",
       "    <tr>\n",
       "      <th>2997</th>\n",
       "      <td>29.97</td>\n",
       "      <td>-2.715</td>\n",
       "      <td>-0.189</td>\n",
       "      <td>-18.500</td>\n",
       "      <td>-1.333</td>\n",
       "      <td>35.136</td>\n",
       "      <td>17.964</td>\n",
       "      <td>1.310</td>\n",
       "      <td>26.820</td>\n",
       "    </tr>\n",
       "    <tr>\n",
       "      <th>2998</th>\n",
       "      <td>29.98</td>\n",
       "      <td>-2.714</td>\n",
       "      <td>-0.185</td>\n",
       "      <td>-18.500</td>\n",
       "      <td>-1.333</td>\n",
       "      <td>35.136</td>\n",
       "      <td>17.959</td>\n",
       "      <td>1.319</td>\n",
       "      <td>26.830</td>\n",
       "    </tr>\n",
       "    <tr>\n",
       "      <th>2999</th>\n",
       "      <td>29.99</td>\n",
       "      <td>-2.720</td>\n",
       "      <td>-0.177</td>\n",
       "      <td>-18.504</td>\n",
       "      <td>-1.326</td>\n",
       "      <td>35.156</td>\n",
       "      <td>17.954</td>\n",
       "      <td>1.327</td>\n",
       "      <td>26.840</td>\n",
       "    </tr>\n",
       "    <tr>\n",
       "      <th>3000</th>\n",
       "      <td>30.00</td>\n",
       "      <td>-2.719</td>\n",
       "      <td>-0.181</td>\n",
       "      <td>-18.496</td>\n",
       "      <td>-1.311</td>\n",
       "      <td>35.175</td>\n",
       "      <td>17.949</td>\n",
       "      <td>1.300</td>\n",
       "      <td>26.850</td>\n",
       "    </tr>\n",
       "  </tbody>\n",
       "</table>\n",
       "<p>3001 rows × 9 columns</p>\n",
       "</div>"
      ],
      "text/plain": [
       "      時間(秒)  総合COP左右X(cm)  総合COP前後Y(cm)  左プレートCOP左右X(cm)  左プレートCOP前後Y(cm)  \\\n",
       "0      0.00        -2.396         0.138          -18.508           -1.126   \n",
       "1      0.01        -2.411         0.130          -18.516           -1.139   \n",
       "2      0.02        -2.408         0.149          -18.508           -1.123   \n",
       "3      0.03        -2.418         0.149          -18.512           -1.116   \n",
       "4      0.04        -2.423         0.161          -18.512           -1.116   \n",
       "...     ...           ...           ...              ...              ...   \n",
       "2996  29.96        -2.712        -0.201          -18.500           -1.333   \n",
       "2997  29.97        -2.715        -0.189          -18.500           -1.333   \n",
       "2998  29.98        -2.714        -0.185          -18.500           -1.333   \n",
       "2999  29.99        -2.720        -0.177          -18.504           -1.326   \n",
       "3000  30.00        -2.719        -0.181          -18.496           -1.311   \n",
       "\n",
       "      左荷重(kgf)  右プレートCOP左右X(cm)  右プレートCOP前後Y(cm)  右荷重(kgf)  \n",
       "0       34.677           17.991            1.736    27.406  \n",
       "1       34.716           17.991            1.736    27.406  \n",
       "2       34.765           17.987            1.760    27.445  \n",
       "3       34.755           17.991            1.754    27.406  \n",
       "4       34.755           18.016            1.784    27.357  \n",
       "...        ...              ...              ...       ...  \n",
       "2996    35.136           17.949            1.281    26.850  \n",
       "2997    35.136           17.964            1.310    26.820  \n",
       "2998    35.136           17.959            1.319    26.830  \n",
       "2999    35.156           17.954            1.327    26.840  \n",
       "3000    35.175           17.949            1.300    26.850  \n",
       "\n",
       "[3001 rows x 9 columns]"
      ]
     },
     "execution_count": 9,
     "metadata": {},
     "output_type": "execute_result"
    }
   ],
   "source": [
    "df2"
   ]
  },
  {
   "cell_type": "markdown",
   "metadata": {},
   "source": [
    "> うまくいった（だろ？）。しかし，項目名が長すぎるし日本語だから分析の際使いにそうだな。"
   ]
  },
  {
   "cell_type": "markdown",
   "metadata": {},
   "source": [
    "データフレーム`df2`の`columns`属性を以下のように変更しよう（教科書p.220〜221 リスト6-5）：  \n",
    "```\n",
    "時間(秒) → t\n",
    "総合COP左右X(cm) → x\n",
    "総合COP前後Y(cm) → y\n",
    "左プレートCOP左右X(cm) → x_L\n",
    "左プレートCOP前後Y(cm) → y_L\n",
    "左荷重(kgf) → load_L\n",
    "左プレートCOP左右X(cm) → x_R\n",
    "左プレートCOP前後Y(cm) → y_R\n",
    "左荷重(kgf) → load_R\n",
    "```"
   ]
  },
  {
   "cell_type": "code",
   "execution_count": 10,
   "metadata": {},
   "outputs": [],
   "source": [
    "df2.columns=['t', 'x', 'y', 'x_L', 'y_L', 'load_L',  'x_R', 'y_R', 'load_R']"
   ]
  },
  {
   "cell_type": "markdown",
   "metadata": {},
   "source": [
    "`df2`を表示してみよう："
   ]
  },
  {
   "cell_type": "code",
   "execution_count": 11,
   "metadata": {},
   "outputs": [
    {
     "data": {
      "text/html": [
       "<div>\n",
       "<style scoped>\n",
       "    .dataframe tbody tr th:only-of-type {\n",
       "        vertical-align: middle;\n",
       "    }\n",
       "\n",
       "    .dataframe tbody tr th {\n",
       "        vertical-align: top;\n",
       "    }\n",
       "\n",
       "    .dataframe thead th {\n",
       "        text-align: right;\n",
       "    }\n",
       "</style>\n",
       "<table border=\"1\" class=\"dataframe\">\n",
       "  <thead>\n",
       "    <tr style=\"text-align: right;\">\n",
       "      <th></th>\n",
       "      <th>t</th>\n",
       "      <th>x</th>\n",
       "      <th>y</th>\n",
       "      <th>x_L</th>\n",
       "      <th>y_L</th>\n",
       "      <th>load_L</th>\n",
       "      <th>x_R</th>\n",
       "      <th>y_R</th>\n",
       "      <th>load_R</th>\n",
       "    </tr>\n",
       "  </thead>\n",
       "  <tbody>\n",
       "    <tr>\n",
       "      <th>0</th>\n",
       "      <td>0.00</td>\n",
       "      <td>-2.396</td>\n",
       "      <td>0.138</td>\n",
       "      <td>-18.508</td>\n",
       "      <td>-1.126</td>\n",
       "      <td>34.677</td>\n",
       "      <td>17.991</td>\n",
       "      <td>1.736</td>\n",
       "      <td>27.406</td>\n",
       "    </tr>\n",
       "    <tr>\n",
       "      <th>1</th>\n",
       "      <td>0.01</td>\n",
       "      <td>-2.411</td>\n",
       "      <td>0.130</td>\n",
       "      <td>-18.516</td>\n",
       "      <td>-1.139</td>\n",
       "      <td>34.716</td>\n",
       "      <td>17.991</td>\n",
       "      <td>1.736</td>\n",
       "      <td>27.406</td>\n",
       "    </tr>\n",
       "    <tr>\n",
       "      <th>2</th>\n",
       "      <td>0.02</td>\n",
       "      <td>-2.408</td>\n",
       "      <td>0.149</td>\n",
       "      <td>-18.508</td>\n",
       "      <td>-1.123</td>\n",
       "      <td>34.765</td>\n",
       "      <td>17.987</td>\n",
       "      <td>1.760</td>\n",
       "      <td>27.445</td>\n",
       "    </tr>\n",
       "    <tr>\n",
       "      <th>3</th>\n",
       "      <td>0.03</td>\n",
       "      <td>-2.418</td>\n",
       "      <td>0.149</td>\n",
       "      <td>-18.512</td>\n",
       "      <td>-1.116</td>\n",
       "      <td>34.755</td>\n",
       "      <td>17.991</td>\n",
       "      <td>1.754</td>\n",
       "      <td>27.406</td>\n",
       "    </tr>\n",
       "    <tr>\n",
       "      <th>4</th>\n",
       "      <td>0.04</td>\n",
       "      <td>-2.423</td>\n",
       "      <td>0.161</td>\n",
       "      <td>-18.512</td>\n",
       "      <td>-1.116</td>\n",
       "      <td>34.755</td>\n",
       "      <td>18.016</td>\n",
       "      <td>1.784</td>\n",
       "      <td>27.357</td>\n",
       "    </tr>\n",
       "    <tr>\n",
       "      <th>...</th>\n",
       "      <td>...</td>\n",
       "      <td>...</td>\n",
       "      <td>...</td>\n",
       "      <td>...</td>\n",
       "      <td>...</td>\n",
       "      <td>...</td>\n",
       "      <td>...</td>\n",
       "      <td>...</td>\n",
       "      <td>...</td>\n",
       "    </tr>\n",
       "    <tr>\n",
       "      <th>2996</th>\n",
       "      <td>29.96</td>\n",
       "      <td>-2.712</td>\n",
       "      <td>-0.201</td>\n",
       "      <td>-18.500</td>\n",
       "      <td>-1.333</td>\n",
       "      <td>35.136</td>\n",
       "      <td>17.949</td>\n",
       "      <td>1.281</td>\n",
       "      <td>26.850</td>\n",
       "    </tr>\n",
       "    <tr>\n",
       "      <th>2997</th>\n",
       "      <td>29.97</td>\n",
       "      <td>-2.715</td>\n",
       "      <td>-0.189</td>\n",
       "      <td>-18.500</td>\n",
       "      <td>-1.333</td>\n",
       "      <td>35.136</td>\n",
       "      <td>17.964</td>\n",
       "      <td>1.310</td>\n",
       "      <td>26.820</td>\n",
       "    </tr>\n",
       "    <tr>\n",
       "      <th>2998</th>\n",
       "      <td>29.98</td>\n",
       "      <td>-2.714</td>\n",
       "      <td>-0.185</td>\n",
       "      <td>-18.500</td>\n",
       "      <td>-1.333</td>\n",
       "      <td>35.136</td>\n",
       "      <td>17.959</td>\n",
       "      <td>1.319</td>\n",
       "      <td>26.830</td>\n",
       "    </tr>\n",
       "    <tr>\n",
       "      <th>2999</th>\n",
       "      <td>29.99</td>\n",
       "      <td>-2.720</td>\n",
       "      <td>-0.177</td>\n",
       "      <td>-18.504</td>\n",
       "      <td>-1.326</td>\n",
       "      <td>35.156</td>\n",
       "      <td>17.954</td>\n",
       "      <td>1.327</td>\n",
       "      <td>26.840</td>\n",
       "    </tr>\n",
       "    <tr>\n",
       "      <th>3000</th>\n",
       "      <td>30.00</td>\n",
       "      <td>-2.719</td>\n",
       "      <td>-0.181</td>\n",
       "      <td>-18.496</td>\n",
       "      <td>-1.311</td>\n",
       "      <td>35.175</td>\n",
       "      <td>17.949</td>\n",
       "      <td>1.300</td>\n",
       "      <td>26.850</td>\n",
       "    </tr>\n",
       "  </tbody>\n",
       "</table>\n",
       "<p>3001 rows × 9 columns</p>\n",
       "</div>"
      ],
      "text/plain": [
       "          t      x      y     x_L    y_L  load_L     x_R    y_R  load_R\n",
       "0      0.00 -2.396  0.138 -18.508 -1.126  34.677  17.991  1.736  27.406\n",
       "1      0.01 -2.411  0.130 -18.516 -1.139  34.716  17.991  1.736  27.406\n",
       "2      0.02 -2.408  0.149 -18.508 -1.123  34.765  17.987  1.760  27.445\n",
       "3      0.03 -2.418  0.149 -18.512 -1.116  34.755  17.991  1.754  27.406\n",
       "4      0.04 -2.423  0.161 -18.512 -1.116  34.755  18.016  1.784  27.357\n",
       "...     ...    ...    ...     ...    ...     ...     ...    ...     ...\n",
       "2996  29.96 -2.712 -0.201 -18.500 -1.333  35.136  17.949  1.281  26.850\n",
       "2997  29.97 -2.715 -0.189 -18.500 -1.333  35.136  17.964  1.310  26.820\n",
       "2998  29.98 -2.714 -0.185 -18.500 -1.333  35.136  17.959  1.319  26.830\n",
       "2999  29.99 -2.720 -0.177 -18.504 -1.326  35.156  17.954  1.327  26.840\n",
       "3000  30.00 -2.719 -0.181 -18.496 -1.311  35.175  17.949  1.300  26.850\n",
       "\n",
       "[3001 rows x 9 columns]"
      ]
     },
     "execution_count": 11,
     "metadata": {},
     "output_type": "execute_result"
    }
   ],
   "source": [
    "df2"
   ]
  },
  {
   "cell_type": "markdown",
   "metadata": {},
   "source": [
    "### 3. 種々の分析"
   ]
  },
  {
   "cell_type": "markdown",
   "metadata": {},
   "source": [
    "#### 3-1. 統計的要約"
   ]
  },
  {
   "cell_type": "markdown",
   "metadata": {},
   "source": [
    "教科書p.230のように，`Series`オブジェクトについて基本統計量を計算できる。しかし，同様の統計量をもっと簡単で一挙に計算できてデータフレームにしてしまうもっといい(と思う)データフレームに対するメソッドがある：\n",
    "\n",
    "<br>\n",
    "<center><b>リスト3．データフレームの要約統計量を得る：</b>結果は各項目に対する基本統計量のデータフレームを返す</center>\n",
    "\n",
    "***\n",
    "```\n",
    "データフレームオブジェクト.describe()\n",
    "```\n",
    "***"
   ]
  },
  {
   "cell_type": "markdown",
   "metadata": {},
   "source": [
    "`df2`に`describe`メソッドを作用させて，生成されたデータフレームオブジェクトを`df2_des`に格納しよう："
   ]
  },
  {
   "cell_type": "code",
   "execution_count": 12,
   "metadata": {},
   "outputs": [],
   "source": [
    "df2_des = df2.describe()"
   ]
  },
  {
   "cell_type": "markdown",
   "metadata": {},
   "source": [
    "`df2_des`を表示してみよう："
   ]
  },
  {
   "cell_type": "code",
   "execution_count": 13,
   "metadata": {},
   "outputs": [
    {
     "data": {
      "text/html": [
       "<div>\n",
       "<style scoped>\n",
       "    .dataframe tbody tr th:only-of-type {\n",
       "        vertical-align: middle;\n",
       "    }\n",
       "\n",
       "    .dataframe tbody tr th {\n",
       "        vertical-align: top;\n",
       "    }\n",
       "\n",
       "    .dataframe thead th {\n",
       "        text-align: right;\n",
       "    }\n",
       "</style>\n",
       "<table border=\"1\" class=\"dataframe\">\n",
       "  <thead>\n",
       "    <tr style=\"text-align: right;\">\n",
       "      <th></th>\n",
       "      <th>t</th>\n",
       "      <th>x</th>\n",
       "      <th>y</th>\n",
       "      <th>x_L</th>\n",
       "      <th>y_L</th>\n",
       "      <th>load_L</th>\n",
       "      <th>x_R</th>\n",
       "      <th>y_R</th>\n",
       "      <th>load_R</th>\n",
       "    </tr>\n",
       "  </thead>\n",
       "  <tbody>\n",
       "    <tr>\n",
       "      <th>count</th>\n",
       "      <td>3001.000000</td>\n",
       "      <td>3001.000000</td>\n",
       "      <td>3001.000000</td>\n",
       "      <td>3001.000000</td>\n",
       "      <td>3001.000000</td>\n",
       "      <td>3001.000000</td>\n",
       "      <td>3001.000000</td>\n",
       "      <td>3001.000000</td>\n",
       "      <td>3001.000000</td>\n",
       "    </tr>\n",
       "    <tr>\n",
       "      <th>mean</th>\n",
       "      <td>15.000000</td>\n",
       "      <td>-2.564552</td>\n",
       "      <td>0.066591</td>\n",
       "      <td>-18.519738</td>\n",
       "      <td>-0.953069</td>\n",
       "      <td>34.899861</td>\n",
       "      <td>17.962340</td>\n",
       "      <td>1.378754</td>\n",
       "      <td>27.127223</td>\n",
       "    </tr>\n",
       "    <tr>\n",
       "      <th>std</th>\n",
       "      <td>8.664584</td>\n",
       "      <td>0.084163</td>\n",
       "      <td>0.317420</td>\n",
       "      <td>0.015859</td>\n",
       "      <td>0.366679</td>\n",
       "      <td>0.143939</td>\n",
       "      <td>0.024758</td>\n",
       "      <td>0.278279</td>\n",
       "      <td>0.146651</td>\n",
       "    </tr>\n",
       "    <tr>\n",
       "      <th>min</th>\n",
       "      <td>0.000000</td>\n",
       "      <td>-2.825000</td>\n",
       "      <td>-0.876000</td>\n",
       "      <td>-18.564000</td>\n",
       "      <td>-2.037000</td>\n",
       "      <td>34.453000</td>\n",
       "      <td>17.891000</td>\n",
       "      <td>0.564000</td>\n",
       "      <td>26.576000</td>\n",
       "    </tr>\n",
       "    <tr>\n",
       "      <th>25%</th>\n",
       "      <td>7.500000</td>\n",
       "      <td>-2.616000</td>\n",
       "      <td>-0.177000</td>\n",
       "      <td>-18.532000</td>\n",
       "      <td>-1.214000</td>\n",
       "      <td>34.814000</td>\n",
       "      <td>17.946000</td>\n",
       "      <td>1.187000</td>\n",
       "      <td>27.035000</td>\n",
       "    </tr>\n",
       "    <tr>\n",
       "      <th>50%</th>\n",
       "      <td>15.000000</td>\n",
       "      <td>-2.573000</td>\n",
       "      <td>0.118000</td>\n",
       "      <td>-18.524000</td>\n",
       "      <td>-0.872000</td>\n",
       "      <td>34.902000</td>\n",
       "      <td>17.959000</td>\n",
       "      <td>1.392000</td>\n",
       "      <td>27.113000</td>\n",
       "    </tr>\n",
       "    <tr>\n",
       "      <th>75%</th>\n",
       "      <td>22.500000</td>\n",
       "      <td>-2.521000</td>\n",
       "      <td>0.283000</td>\n",
       "      <td>-18.512000</td>\n",
       "      <td>-0.693000</td>\n",
       "      <td>34.990000</td>\n",
       "      <td>17.976000</td>\n",
       "      <td>1.539000</td>\n",
       "      <td>27.211000</td>\n",
       "    </tr>\n",
       "    <tr>\n",
       "      <th>max</th>\n",
       "      <td>30.000000</td>\n",
       "      <td>-2.287000</td>\n",
       "      <td>0.661000</td>\n",
       "      <td>-18.464000</td>\n",
       "      <td>-0.273000</td>\n",
       "      <td>35.341000</td>\n",
       "      <td>18.046000</td>\n",
       "      <td>2.068000</td>\n",
       "      <td>27.611000</td>\n",
       "    </tr>\n",
       "  </tbody>\n",
       "</table>\n",
       "</div>"
      ],
      "text/plain": [
       "                 t            x            y          x_L          y_L  \\\n",
       "count  3001.000000  3001.000000  3001.000000  3001.000000  3001.000000   \n",
       "mean     15.000000    -2.564552     0.066591   -18.519738    -0.953069   \n",
       "std       8.664584     0.084163     0.317420     0.015859     0.366679   \n",
       "min       0.000000    -2.825000    -0.876000   -18.564000    -2.037000   \n",
       "25%       7.500000    -2.616000    -0.177000   -18.532000    -1.214000   \n",
       "50%      15.000000    -2.573000     0.118000   -18.524000    -0.872000   \n",
       "75%      22.500000    -2.521000     0.283000   -18.512000    -0.693000   \n",
       "max      30.000000    -2.287000     0.661000   -18.464000    -0.273000   \n",
       "\n",
       "            load_L          x_R          y_R       load_R  \n",
       "count  3001.000000  3001.000000  3001.000000  3001.000000  \n",
       "mean     34.899861    17.962340     1.378754    27.127223  \n",
       "std       0.143939     0.024758     0.278279     0.146651  \n",
       "min      34.453000    17.891000     0.564000    26.576000  \n",
       "25%      34.814000    17.946000     1.187000    27.035000  \n",
       "50%      34.902000    17.959000     1.392000    27.113000  \n",
       "75%      34.990000    17.976000     1.539000    27.211000  \n",
       "max      35.341000    18.046000     2.068000    27.611000  "
      ]
     },
     "execution_count": 13,
     "metadata": {},
     "output_type": "execute_result"
    }
   ],
   "source": [
    "df2_des"
   ]
  },
  {
   "cell_type": "markdown",
   "metadata": {},
   "source": [
    "> おお，すごい！\n",
    "\n",
    "上のデータフレームの　index　に示されている事項の意味は下の表1に示すとおりである。  \n",
    "\n",
    "<br>\n",
    "<center><b>表1：要約統計量データフレームにおける量の意味</b></center>\n",
    "\n",
    "| index | 意味 |\n",
    "|:-:|:-:|\n",
    "| count | 要素数 |\n",
    "| mean | 平均 |\n",
    "| std | 標準偏差 |\n",
    "| min | 最小値 |\n",
    "| 25% | 第１四分位数 |\n",
    "| 50% | 中央値(第２四分位数) |\n",
    "| 75% | 第３四分位数 |\n",
    "| max | 最大値 |"
   ]
  },
  {
   "cell_type": "markdown",
   "metadata": {},
   "source": [
    "`df2_des`はデータフレームであるから，１つの項目のある統計量を取り出せる。例えば，`x_L`（`左プレートCOP左右X(cm)` ）の第３四分位数は，以下のようにして取り出せる（教科書p.220の1行目〜5行目を参照…ただし，index番号は`'count'`, `'mean'`, ..., `'max'`と読み替えよ）："
   ]
  },
  {
   "cell_type": "code",
   "execution_count": 14,
   "metadata": {
    "scrolled": true
   },
   "outputs": [
    {
     "data": {
      "text/plain": [
       "-18.512"
      ]
     },
     "execution_count": 14,
     "metadata": {},
     "output_type": "execute_result"
    }
   ],
   "source": [
    "df2_des['x_L']['75%']"
   ]
  },
  {
   "cell_type": "markdown",
   "metadata": {},
   "source": [
    "#### 3-2. ヒストグラムと箱ひげ図"
   ]
  },
  {
   "cell_type": "markdown",
   "metadata": {},
   "source": [
    "Pandasはデータフレームに対して，ヒストグラムと箱ひげ図を描くメソッドを持っている。"
   ]
  },
  {
   "cell_type": "markdown",
   "metadata": {},
   "source": [
    "##### 3-2-1. ヒストグラム"
   ]
  },
  {
   "cell_type": "markdown",
   "metadata": {},
   "source": [
    "<center><b>リスト4. データフレームのデータに対してヒストグラムを描く</b></center>\n",
    "\n",
    "***\n",
    "```\n",
    "データフレームオブジェクト.hist(...)\n",
    "```\n",
    "※）引数の...にはオプション引数（キーワード引数）が入る。とりあえず重要なオプション引数はfigsizeとcolumn。\n",
    "***"
   ]
  },
  {
   "cell_type": "markdown",
   "metadata": {},
   "source": [
    "さて，`df2`の全てのデータについてのヒストグラムを描いてみる：  \n",
    "> 余計な出力を抑えるためにコマンドの最後に`;`を入れておく。"
   ]
  },
  {
   "cell_type": "code",
   "execution_count": 15,
   "metadata": {},
   "outputs": [
    {
     "data": {
      "image/png": "[encoded data removed]",
      "text/plain": [
       "<Figure size 432x288 with 9 Axes>"
      ]
     },
     "metadata": {
      "needs_background": "light"
     },
     "output_type": "display_data"
    }
   ],
   "source": [
    "df2.hist();"
   ]
  },
  {
   "cell_type": "markdown",
   "metadata": {},
   "source": [
    "> 小さすぎる。"
   ]
  },
  {
   "cell_type": "markdown",
   "metadata": {},
   "source": [
    "オプション（キーワード）引数`figsize`を`(10, 10)`としてみる："
   ]
  },
  {
   "cell_type": "code",
   "execution_count": 16,
   "metadata": {},
   "outputs": [
    {
     "data": {
      "image/png": "[encoded data removed]",
      "text/plain": [
       "<Figure size 720x720 with 9 Axes>"
      ]
     },
     "metadata": {
      "needs_background": "light"
     },
     "output_type": "display_data"
    }
   ],
   "source": [
    "df2.hist(figsize=(10,10));"
   ]
  },
  {
   "cell_type": "markdown",
   "metadata": {},
   "source": [
    "> おおお，すばらしい！（項目`t`のヒストグラムは意味がない）。"
   ]
  },
  {
   "cell_type": "markdown",
   "metadata": {},
   "source": [
    "１つの項目だけのヒストグラムを描くときは，`column`オプション(キーワード)引数を使う。例えば，項目`x_L`のヒストグラムだけ描きたいときは："
   ]
  },
  {
   "cell_type": "code",
   "execution_count": 17,
   "metadata": {},
   "outputs": [
    {
     "data": {
      "image/png": "[encoded data removed]",
      "text/plain": [
       "<Figure size 432x288 with 1 Axes>"
      ]
     },
     "metadata": {
      "needs_background": "light"
     },
     "output_type": "display_data"
    }
   ],
   "source": [
    "df2.hist(column='x_L');"
   ]
  },
  {
   "cell_type": "markdown",
   "metadata": {},
   "source": [
    "複数の項目のヒストグラムを描くときは，columnオプション(キーワード)引数の右辺をリストにしておく。例えば，`y_L`, `y_R`のヒストグラムを描くときは：  \n",
    "> １つのグラフが細くなるので，`figsize`オプションで調整する。"
   ]
  },
  {
   "cell_type": "code",
   "execution_count": 18,
   "metadata": {},
   "outputs": [
    {
     "data": {
      "image/png": "[encoded data removed]",
      "text/plain": [
       "<Figure size 720x288 with 2 Axes>"
      ]
     },
     "metadata": {
      "needs_background": "light"
     },
     "output_type": "display_data"
    }
   ],
   "source": [
    "df2.hist(column=['y_L', 'y_R'], figsize=(10,4));"
   ]
  },
  {
   "cell_type": "markdown",
   "metadata": {},
   "source": [
    "> すばらしい！"
   ]
  },
  {
   "cell_type": "markdown",
   "metadata": {},
   "source": [
    "##### 3-2-2. 箱ひげ図"
   ]
  },
  {
   "cell_type": "markdown",
   "metadata": {},
   "source": [
    "<center><b>リスト5. データフレームのデータに対して箱ひげ図を描く</b></center>\n",
    "\n",
    "***\n",
    "```\n",
    "データフレームオブジェクト.boxplot(...)\n",
    "```\n",
    "※）引数の...にはオプション引数（キーワード引数）が入る。とりあえず重要なオプション引数はfigsizeとcolumn。\n",
    "***"
   ]
  },
  {
   "cell_type": "markdown",
   "metadata": {},
   "source": [
    "基本的な使い方は`hist`メソッドと同じ。df2のデータすべてのデータについての箱ひげ図は：  \n",
    "> `figsize=(10,6)`とする。"
   ]
  },
  {
   "cell_type": "code",
   "execution_count": 19,
   "metadata": {},
   "outputs": [
    {
     "data": {
      "image/png": "[encoded data removed]",
      "text/plain": [
       "<Figure size 720x432 with 1 Axes>"
      ]
     },
     "metadata": {
      "needs_background": "light"
     },
     "output_type": "display_data"
    }
   ],
   "source": [
    "df2.boxplot(figsize=(10,6));"
   ]
  },
  {
   "cell_type": "markdown",
   "metadata": {},
   "source": [
    "項目`x_L`の箱ひげ図だけ描きたいときは："
   ]
  },
  {
   "cell_type": "code",
   "execution_count": 20,
   "metadata": {
    "scrolled": true
   },
   "outputs": [
    {
     "data": {
      "image/png": "[encoded data removed]",
      "text/plain": [
       "<Figure size 432x288 with 1 Axes>"
      ]
     },
     "metadata": {
      "needs_background": "light"
     },
     "output_type": "display_data"
    }
   ],
   "source": [
    "df2.boxplot(column='x_L');"
   ]
  },
  {
   "cell_type": "markdown",
   "metadata": {},
   "source": [
    "`y_L`, `y_R`の箱ひげ図を描くときは："
   ]
  },
  {
   "cell_type": "code",
   "execution_count": 21,
   "metadata": {
    "scrolled": true
   },
   "outputs": [
    {
     "data": {
      "image/png": "[encoded data removed]",
      "text/plain": [
       "<Figure size 432x288 with 1 Axes>"
      ]
     },
     "metadata": {
      "needs_background": "light"
     },
     "output_type": "display_data"
    }
   ],
   "source": [
    "df2.boxplot(column=['y_L', 'y_R']);"
   ]
  },
  {
   "cell_type": "markdown",
   "metadata": {},
   "source": [
    "> すばらしい！"
   ]
  },
  {
   "cell_type": "markdown",
   "metadata": {},
   "source": [
    "#### 3-3. COPの総軌跡長を求める"
   ]
  },
  {
   "cell_type": "markdown",
   "metadata": {},
   "source": [
    "COPの総軌跡長を求めてみよう。NumPyを使う。次の重要な関数が必要だ：  \n",
    "\n",
    "<br>\n",
    "<center><b>リスト6. NumPyやPandas Seriesの差分を求める関数</b></center>\n",
    "\n",
    "***\n",
    "$n$個の要素をもつ１次元ndarrayまたはPandas Seriesを`arr`とし，`arr`のindex $i$の要素($i = 0, 1, 2, ... , n$)を$a_i$とする。\n",
    "\n",
    "<center>\n",
    "    \n",
    "```\n",
    "np.diff(arr)\n",
    "```\n",
    "    \n",
    "</center>\n",
    "\n",
    "は，$a_1-a_0, a_2-a_1, ... a_i-a_{i-1}, a_{i+1}-a_i, ... a_n-a_{n-1}$をもつ($n-1$個の要素をもつ)１次元ndarrayを返す。\n",
    "\n",
    "***"
   ]
  },
  {
   "cell_type": "markdown",
   "metadata": {},
   "source": [
    "`dx`を`df2[x]`の，`dy`を`df2[y]`の要素の差分変数とすると："
   ]
  },
  {
   "cell_type": "code",
   "execution_count": 22,
   "metadata": {},
   "outputs": [],
   "source": [
    "dx = np.diff(df2['x'])\n",
    "dy = np.diff(df2['y'])"
   ]
  },
  {
   "cell_type": "markdown",
   "metadata": {},
   "source": [
    "このとき，$i$番目と$i+1$番目のCOPの間の距離のnp.array配列`ds`は："
   ]
  },
  {
   "cell_type": "markdown",
   "metadata": {},
   "source": [
    "> 中学の復習。ただし，ndarray `arr`の各要素の平方根は`np.sqrt(arr)`で求めることができる。"
   ]
  },
  {
   "cell_type": "code",
   "execution_count": 23,
   "metadata": {},
   "outputs": [],
   "source": [
    "ds = np.sqrt(dx**2 + dy**2)"
   ]
  },
  {
   "cell_type": "markdown",
   "metadata": {},
   "source": [
    "`ds`のすべての要素を足し合わせたものが総軌跡長`s`なのだから（教科書p.128 リスト3-20を参照）："
   ]
  },
  {
   "cell_type": "code",
   "execution_count": 24,
   "metadata": {},
   "outputs": [
    {
     "name": "stdout",
     "output_type": "stream",
     "text": [
      "39.02421522800696\n"
     ]
    }
   ],
   "source": [
    "s = np.sum(ds)\n",
    "print(s)"
   ]
  },
  {
   "cell_type": "markdown",
   "metadata": {},
   "source": [
    "> この人のCOPの総軌跡長はおよそ40cmである。"
   ]
  },
  {
   "cell_type": "code",
   "execution_count": null,
   "metadata": {},
   "outputs": [],
   "source": []
  }
 ],
 "metadata": {
  "kernelspec": {
   "display_name": "Python 3",
   "language": "python",
   "name": "python3"
  },
  "language_info": {
   "codemirror_mode": {
    "name": "ipython",
    "version": 3
   },
   "file_extension": ".py",
   "mimetype": "text/x-python",
   "name": "python",
   "nbconvert_exporter": "python",
   "pygments_lexer": "ipython3",
   "version": "3.7.6"
  }
 },
 "nbformat": 4,
 "nbformat_minor": 4
}
